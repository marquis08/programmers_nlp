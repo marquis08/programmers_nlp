{
 "nbformat": 4,
 "nbformat_minor": 2,
 "metadata": {
  "language_info": {
   "name": "python",
   "codemirror_mode": {
    "name": "ipython",
    "version": 3
   },
   "version": "3.7.5-final"
  },
  "orig_nbformat": 2,
  "file_extension": ".py",
  "mimetype": "text/x-python",
  "name": "python",
  "npconvert_exporter": "python",
  "pygments_lexer": "ipython3",
  "version": 3,
  "kernelspec": {
   "name": "python3",
   "display_name": "Python 3"
  }
 },
 "cells": [
  {
   "cell_type": "code",
   "execution_count": 1,
   "metadata": {},
   "outputs": [],
   "source": [
    "import pandas as pd, numpy as np "
   ]
  },
  {
   "cell_type": "code",
   "execution_count": 3,
   "metadata": {},
   "outputs": [],
   "source": [
    "fold_0 = np.loadtxt('../job_nlp/bert_raw_submission/bert_content_20e_maxseq400_fold_0.csv', delimiter=',')\n",
    "fold_1 = np.loadtxt('../job_nlp/bert_raw_submission/bert_content_20e_maxseq400_fold_1.csv', delimiter=',')\n",
    "fold_2 = np.loadtxt('../job_nlp/bert_raw_submission/bert_content_20e_maxseq400_fold_2.csv', delimiter=',')\n",
    "fold_3 = np.loadtxt('../job_nlp/bert_raw_submission/bert_content_20e_maxseq400_fold_3.csv', delimiter=',')\n",
    "fold_4 = np.loadtxt('../job_nlp/bert_raw_submission/bert_content_20e_maxseq400_fold_4.csv', delimiter=',')"
   ]
  },
  {
   "cell_type": "code",
   "execution_count": 4,
   "metadata": {},
   "outputs": [
    {
     "data": {
      "text/plain": "array([[-1.33655119, -1.64948583, -1.99604511, -1.74130619,  6.22682905],\n       [-2.11167002, -1.93569338,  0.62420851,  5.67593718, -2.60825729],\n       [ 5.99361944, -0.07880669, -1.55154145, -1.49862194, -1.56801283],\n       ...,\n       [ 6.01352549, -0.51470995, -1.50038576, -1.25686109, -1.38097775],\n       [-1.37832856, -0.8583225 ,  5.90348864, -1.48622715, -2.76030564],\n       [-1.34116328, -3.9144938 , -0.91136241,  2.28588939,  3.25766921]])"
     },
     "execution_count": 4,
     "metadata": {},
     "output_type": "execute_result"
    }
   ],
   "source": [
    "fold_0"
   ]
  },
  {
   "cell_type": "code",
   "execution_count": 5,
   "metadata": {},
   "outputs": [
    {
     "name": "stdout",
     "output_type": "stream",
     "text": "3    134\n5    130\n1     87\n4     75\n2     74\nName: label, dtype: int64\n(500, 1)\n"
    }
   ],
   "source": [
    "f_0 = np.argmax(fold_0, axis=1)\n",
    "submission = pd.DataFrame()\n",
    "submission['label'] = f_0+1\n",
    "print(submission.label.value_counts())\n",
    "print(submission.shape)\n",
    "submission.to_csv(\"../job_nlp/bert_submission/best_content_20e_maxseq400_fold_0.csv\", index=False)"
   ]
  },
  {
   "cell_type": "code",
   "execution_count": 6,
   "metadata": {},
   "outputs": [
    {
     "name": "stdout",
     "output_type": "stream",
     "text": "3    136\n5    123\n2     86\n4     81\n1     74\nName: label, dtype: int64\n(500, 1)\n"
    }
   ],
   "source": [
    "f_1 = np.argmax(fold_1, axis=1)\n",
    "submission = pd.DataFrame()\n",
    "submission['label'] = f_1+1\n",
    "print(submission.label.value_counts())\n",
    "print(submission.shape)\n",
    "submission.to_csv(\"../job_nlp/bert_submission/best_content_20e_maxseq400_fold_1.csv\", index=False)"
   ]
  },
  {
   "cell_type": "code",
   "execution_count": 7,
   "metadata": {},
   "outputs": [
    {
     "name": "stdout",
     "output_type": "stream",
     "text": "3    149\n5    111\n4     99\n1     85\n2     56\nName: label, dtype: int64\n(500, 1)\n"
    }
   ],
   "source": [
    "f_2 = np.argmax(fold_2, axis=1)\n",
    "submission = pd.DataFrame()\n",
    "submission['label'] = f_2+1\n",
    "print(submission.label.value_counts())\n",
    "print(submission.shape)\n",
    "submission.to_csv(\"../job_nlp/bert_submission/best_content_20e_maxseq400_fold_2.csv\", index=False)"
   ]
  },
  {
   "cell_type": "code",
   "execution_count": 8,
   "metadata": {},
   "outputs": [
    {
     "name": "stdout",
     "output_type": "stream",
     "text": "3    148\n5     95\n2     87\n4     85\n1     85\nName: label, dtype: int64\n(500, 1)\n"
    }
   ],
   "source": [
    "f_3 = np.argmax(fold_3, axis=1)\n",
    "submission = pd.DataFrame()\n",
    "submission['label'] = f_3+1\n",
    "print(submission.label.value_counts())\n",
    "print(submission.shape)\n",
    "submission.to_csv(\"../job_nlp/bert_submission/best_content_20e_maxseq400_fold_3.csv\", index=False)"
   ]
  },
  {
   "cell_type": "code",
   "execution_count": 9,
   "metadata": {},
   "outputs": [
    {
     "name": "stdout",
     "output_type": "stream",
     "text": "5    128\n3    106\n4     98\n1     93\n2     75\nName: label, dtype: int64\n(500, 1)\n"
    }
   ],
   "source": [
    "f_4 = np.argmax(fold_4, axis=1)\n",
    "submission = pd.DataFrame()\n",
    "submission['label'] = f_4+1\n",
    "print(submission.label.value_counts())\n",
    "print(submission.shape)\n",
    "submission.to_csv(\"../job_nlp/bert_submission/best_content_20e_maxseq400_fold_4.csv\", index=False)"
   ]
  },
  {
   "cell_type": "code",
   "execution_count": 10,
   "metadata": {},
   "outputs": [
    {
     "name": "stdout",
     "output_type": "stream",
     "text": "(500,)\n[4 3 0 2 4]\n"
    }
   ],
   "source": [
    "predictions = fold_0\n",
    "predictions += fold_1\n",
    "predictions += fold_2\n",
    "predictions += fold_3\n",
    "predictions += fold_4\n",
    "predictions = predictions/5\n",
    "predictions = np.argmax(predictions, axis=1)\n",
    "print(predictions.shape)\n",
    "print(predictions[:5])"
   ]
  },
  {
   "cell_type": "code",
   "execution_count": 11,
   "metadata": {},
   "outputs": [
    {
     "data": {
      "text/plain": "3    139\n5    118\n4     85\n1     84\n2     74\nName: label, dtype: int64"
     },
     "execution_count": 11,
     "metadata": {},
     "output_type": "execute_result"
    }
   ],
   "source": [
    "submission = pd.DataFrame()\n",
    "submission['label'] = predictions+1\n",
    "submission.label.value_counts()"
   ]
  },
  {
   "cell_type": "code",
   "execution_count": 12,
   "metadata": {},
   "outputs": [],
   "source": [
    "submission.to_csv(\"../job_nlp/bert_submission/bert_content_20e_maxseq400_5fold_cv.csv\", index=False)"
   ]
  }
 ]
}